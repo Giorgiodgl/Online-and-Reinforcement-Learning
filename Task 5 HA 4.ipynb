{
 "cells": [
  {
   "cell_type": "code",
   "execution_count": 51,
   "metadata": {},
   "outputs": [],
   "source": [
    "import numpy as np\n",
    "import pandas as pd\n",
    "import matplotlib.pyplot as plt\n",
    "from ERS import ErgodicRiverswim"
   ]
  },
  {
   "cell_type": "code",
   "execution_count": 39,
   "metadata": {},
   "outputs": [],
   "source": [
    "def fun_p(data, env, alpha):\n",
    "    l = env.l\n",
    "    action = env.num_action\n",
    "    matrix = np.zeros((l, action, l))\n",
    "    for s1 in range(l):\n",
    "        for a in range(action):\n",
    "            times_s1_a = data.loc[(data[\"state\"] == s1)\n",
    "                                  & (data[\"action\"] == a)]\n",
    "            num_s1 = max(1, len(times_s1_a))\n",
    "            for s2 in range(l):\n",
    "                trans_s2 = times_s1_a[times_s1_a[\"s+1\"] == s2]\n",
    "                num_s1_s2 = max(1, len(trans_s2))\n",
    "                x = num_s1_s2 + alpha\n",
    "                y = num_s1 + alpha * l\n",
    "                matrix[s1, a, s2] = 0.0 if y == 0 else x / y\n",
    "    return matrix"
   ]
  },
  {
   "cell_type": "code",
   "execution_count": 40,
   "metadata": {},
   "outputs": [],
   "source": [
    "def fun_r(data, env, alpha):\n",
    "    r = np.zeros((env.l, env.action))\n",
    "    for s in range(env.l):\n",
    "        for a in range(env.action):\n",
    "            times_state_action = data.loc[(\n",
    "                data[\"state\"] == s) & (data[\"action\"] == a)]\n",
    "            num_state = max(1, len(times_state_action))\n",
    "            rewards_states = times_state_action[\"reward\"].sum()\n",
    "            x = rewards_states + alpha\n",
    "            y = num_state + alpha\n",
    "            r[s, a] = 0.0 if y == 0 else x / y\n",
    "    return r"
   ]
  },
  {
   "cell_type": "code",
   "execution_count": 41,
   "metadata": {},
   "outputs": [],
   "source": [
    "def simulation(env, size=100):\n",
    "    simulation = []\n",
    "    for _ in range(size):\n",
    "        s = env.state\n",
    "        action = np.random.choice(env.action)\n",
    "        s_1, reward = env.step(action)\n",
    "        simulation.append([s, action, reward, s_1])\n",
    "    return pd.DataFrame(simulation, columns=[\"state\", \"action\", \"reward\", \"state+1\"])"
   ]
  },
  {
   "cell_type": "code",
   "execution_count": 44,
   "metadata": {},
   "outputs": [],
   "source": [
    "def model_based_learning(data, env, alpha, *, step_size):\n",
    "    l = env.l\n",
    "    action = env.action\n",
    "    q_values = []\n",
    "    print(\"Starting the Model-based learning algorithm...\", end=\"\\n\")\n",
    "    for t in range(1, len(data), step_size):\n",
    "        p = fun_p(data[:t], env, alpha)\n",
    "        r = fun_r(data[:t], env, alpha)\n",
    "        q_value = q_value_iteration(r, p, l, action)\n",
    "        q_values.append(q_value)\n",
    "    print(\n",
    "        f\"Done computing Q-value estimates for {model_based_learning.__name__}\")\n",
    "    return np.array(q_values)"
   ]
  },
  {
   "cell_type": "code",
   "execution_count": 45,
   "metadata": {},
   "outputs": [],
   "source": [
    "def q_learning(data, env, alpha, gamma=0.95, *, step_size):\n",
    "    Q_init = np.zeros((env.l, env.action))\n",
    "    q_values = []\n",
    "    num_selected = np.zeros((env.l, env.action))\n",
    "    print(\"Starting the Q-value learning algorithm...\", end=\"\\n\")\n",
    "    for t in range(0, len(data), step_size):\n",
    "        s = data[\"state\"][t]\n",
    "        a = data[\"action\"][t]\n",
    "        reward = data[\"reward\"][t]\n",
    "        s_1 = data[\"state+1\"][t]\n",
    "        num_selected[s][a] += 1\n",
    "        delta = reward + gamma * \\\n",
    "            max(Q_init[s_1, 0], Q_init[s_1, 1]) - \\\n",
    "            Q_init[s, a]\n",
    "        Q_new = Q_init.copy()\n",
    "        Q_new[s, a] = Q_init[s, a] + \\\n",
    "            alpha(t, num_selected[s][a]) * delta\n",
    "        q_values.append(Q_new)\n",
    "        Q_init = Q_new.copy()\n",
    "    print(f\"Done computing Q-value estimates for {q_learning.__name__}\")\n",
    "    return np.array(q_values)"
   ]
  },
  {
   "cell_type": "code",
   "execution_count": 47,
   "metadata": {},
   "outputs": [],
   "source": [
    "def get_error(q_estimates, env):\n",
    "    q_star = env.q_value_iteration()\n",
    "    errors = []\n",
    "    for q_estimate in q_estimates:\n",
    "        error = np.linalg.norm(q_estimate - q_star, ord=np.inf)\n",
    "        errors.append(error)\n",
    "    return errors"
   ]
  },
  {
   "cell_type": "code",
   "execution_count": 50,
   "metadata": {},
   "outputs": [
    {
     "ename": "TypeError",
     "evalue": "ErgodicRiverswim() takes no arguments",
     "output_type": "error",
     "traceback": [
      "\u001b[1;31m---------------------------------------------------------------------------\u001b[0m",
      "\u001b[1;31mTypeError\u001b[0m                                 Traceback (most recent call last)",
      "\u001b[1;32mc:\\Users\\giorg\\Desktop\\CODES\\Q5 - Giorgio Degl'Innocenti.ipynb Cell 13\u001b[0m in \u001b[0;36m<cell line: 90>\u001b[1;34m()\u001b[0m\n\u001b[0;32m     <a href='vscode-notebook-cell:/c%3A/Users/giorg/Desktop/CODES/Q5%20-%20Giorgio%20Degl%27Innocenti.ipynb#X15sZmlsZQ%3D%3D?line=86'>87</a>\u001b[0m     plt\u001b[39m.\u001b[39mshow()\n\u001b[0;32m     <a href='vscode-notebook-cell:/c%3A/Users/giorg/Desktop/CODES/Q5%20-%20Giorgio%20Degl%27Innocenti.ipynb#X15sZmlsZQ%3D%3D?line=89'>90</a>\u001b[0m \u001b[39mif\u001b[39;00m \u001b[39m__name__\u001b[39m \u001b[39m==\u001b[39m \u001b[39m\"\u001b[39m\u001b[39m__main__\u001b[39m\u001b[39m\"\u001b[39m:\n\u001b[1;32m---> <a href='vscode-notebook-cell:/c%3A/Users/giorg/Desktop/CODES/Q5%20-%20Giorgio%20Degl%27Innocenti.ipynb#X15sZmlsZQ%3D%3D?line=90'>91</a>\u001b[0m     main()\n",
      "\u001b[1;32mc:\\Users\\giorg\\Desktop\\CODES\\Q5 - Giorgio Degl'Innocenti.ipynb Cell 13\u001b[0m in \u001b[0;36mmain\u001b[1;34m()\u001b[0m\n\u001b[0;32m      <a href='vscode-notebook-cell:/c%3A/Users/giorg/Desktop/CODES/Q5%20-%20Giorgio%20Degl%27Innocenti.ipynb#X15sZmlsZQ%3D%3D?line=0'>1</a>\u001b[0m \u001b[39mdef\u001b[39;00m \u001b[39mmain\u001b[39m():\n\u001b[1;32m----> <a href='vscode-notebook-cell:/c%3A/Users/giorg/Desktop/CODES/Q5%20-%20Giorgio%20Degl%27Innocenti.ipynb#X15sZmlsZQ%3D%3D?line=1'>2</a>\u001b[0m     env \u001b[39m=\u001b[39m ErgodicRiverswim(\u001b[39m4\u001b[39;49m)\n\u001b[0;32m      <a href='vscode-notebook-cell:/c%3A/Users/giorg/Desktop/CODES/Q5%20-%20Giorgio%20Degl%27Innocenti.ipynb#X15sZmlsZQ%3D%3D?line=2'>3</a>\u001b[0m     size \u001b[39m=\u001b[39m \u001b[39m10\u001b[39m \u001b[39m*\u001b[39m\u001b[39m*\u001b[39m \u001b[39m6\u001b[39m\n\u001b[0;32m      <a href='vscode-notebook-cell:/c%3A/Users/giorg/Desktop/CODES/Q5%20-%20Giorgio%20Degl%27Innocenti.ipynb#X15sZmlsZQ%3D%3D?line=3'>4</a>\u001b[0m     step_size \u001b[39m=\u001b[39m \u001b[39m1000\u001b[39m\n",
      "\u001b[1;31mTypeError\u001b[0m: ErgodicRiverswim() takes no arguments"
     ]
    }
   ],
   "source": [
    "def main():\n",
    "    env = ErgodicRiverswim(4)\n",
    "    size = 10 ** 6\n",
    "    step_size = 1000\n",
    "    data = simulation(env, size)\n",
    "\n",
    "    # run algorithm and compute errors for model based opo\n",
    "    q_estimates_model = model_based_learning(data, env, 0, step_size=step_size)\n",
    "    model_errors = get_error(q_estimates_model, env)\n",
    "    # run algorithm and compute errors for ql for alpha and alpha prime\n",
    "    q_estimates_ql_a = q_learning(\n",
    "        data, env, lambda t, num: 2 / (t ** 0.66 + 1), step_size=step_size)\n",
    "    q_estimates_ql_ap = q_learning(\n",
    "        data, env, lambda t, num: 2 / (num ** 0.66 + 1), step_size=step_size)\n",
    "    ql_errors_a = get_error(q_estimates_ql_a, env)\n",
    "    ql_errors_ap = get_error(q_estimates_ql_ap, env)\n",
    "    log_ql_errors_a = np.log10(ql_errors_a)\n",
    "    log_ql_errors_ap = np.log10(ql_errors_ap)\n",
    "\n",
    "    # plots\n",
    "    x_values = np.arange(1, size, step_size)\n",
    "    x_label = r\"$T$\"\n",
    "    y_label = r\"$\\|Q^{*} - Q_{t}\\|_{\\infty}$\"\n",
    "    model_title = r\"Model-Based Method for OPO with $\\alpha$ = 0\"\n",
    "    ql_title = \"Q-Learning Method for OPO\"\n",
    "    ql_legend = [r\"Q-Learning with $\\alpha$\", r\"Q-Learning with $\\alpha'$\"]\n",
    "\n",
    "    plt.plot(x_values, model_errors)\n",
    "    plt.xlabel(x_label)\n",
    "    plt.ylabel(y_label)\n",
    "    plt.title(model_title)\n",
    "    plt.savefig(\"./plots/model_based.png\")\n",
    "    plt.show()\n",
    "\n",
    "    plt.plot(x_values, ql_errors_a, label=ql_legend[0])\n",
    "    plt.plot(x_values, ql_errors_ap, label=ql_legend[1])\n",
    "    plt.xlabel(x_label)\n",
    "    plt.ylabel(y_label)\n",
    "    plt.title(ql_title)\n",
    "    plt.legend()\n",
    "    plt.savefig(\"./plots/q_learning.png\")\n",
    "    plt.show()\n",
    "\n",
    "    plt.plot(x_values, log_ql_errors_a, label=ql_legend[0])\n",
    "    plt.plot(x_values, log_ql_errors_ap, label=ql_legend[1])\n",
    "    plt.yscale(\"log\")\n",
    "    plt.xlabel(x_label)\n",
    "    plt.ylabel(y_label)\n",
    "    plt.title(ql_title)\n",
    "    plt.legend()\n",
    "    plt.savefig(\"./plots/log_q_learning.png\")\n",
    "    plt.show()\n",
    "\n",
    "\n",
    "if __name__ == \"__main__\":\n",
    "    main()\n"
   ]
  }
 ],
 "metadata": {
  "kernelspec": {
   "display_name": "Python 3",
   "language": "python",
   "name": "python3"
  },
  "language_info": {
   "codemirror_mode": {
    "name": "ipython",
    "version": 3
   },
   "file_extension": ".py",
   "mimetype": "text/x-python",
   "name": "python",
   "nbconvert_exporter": "python",
   "pygments_lexer": "ipython3",
   "version": "3.10.10"
  },
  "orig_nbformat": 4
 },
 "nbformat": 4,
 "nbformat_minor": 2
}
