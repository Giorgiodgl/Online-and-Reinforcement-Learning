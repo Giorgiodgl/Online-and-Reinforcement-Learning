{
 "cells": [
  {
   "cell_type": "markdown",
   "metadata": {},
   "source": [
    "## CMA-ES for CartPole Torch\n",
    "### Christian Igel, 2023\n",
    "\n",
    "If you have suggestions for improvement, [let me know](mailto:igel@diku.dk)."
   ]
  },
  {
   "cell_type": "code",
   "execution_count": 56,
   "metadata": {},
   "outputs": [],
   "source": [
    "import gymnasium as gym  # Defines RL environments\n",
    "\n",
    "import numpy as np\n",
    "import pandas as pd\n",
    "import matplotlib.pyplot as plt\n",
    "plt.rcParams[\"figure.figsize\"] = (4,4)  # Set size of visualization\n",
    "from IPython.display import clear_output  # For inline visualization\n",
    "\n",
    "import torch\n",
    "import torch.nn as nn\n",
    "import torch.nn.functional as F\n",
    "\n",
    "import cma\n",
    "\n",
    "# Define task\n",
    "env = gym.make('CartPole-v1')\n",
    "state_space_dimension = env.observation_space.shape[0]\n",
    "action_space_dimension = 1  # env.action_space.n - 1"
   ]
  },
  {
   "cell_type": "markdown",
   "metadata": {},
   "source": [
    "Define the policy network:"
   ]
  },
  {
   "cell_type": "code",
   "execution_count": 57,
   "metadata": {
    "scrolled": false
   },
   "outputs": [],
   "source": [
    "# Model definition\n",
    "class NeuralNetwork(nn.Module):\n",
    "    def __init__(self, bias):\n",
    "        super(NeuralNetwork, self).__init__()\n",
    "        self.layout = nn.Sequential(\n",
    "            nn.Linear(4, 5, bias=bias),\n",
    "            nn.Tanh(),\n",
    "            nn.Linear(5, 1, bias=bias)\n",
    "        )\n",
    "    \n",
    "    def forward(self, x):\n",
    "        output = self.layout(x)\n",
    "        return output\n"
   ]
  },
  {
   "cell_type": "code",
   "execution_count": 58,
   "metadata": {},
   "outputs": [],
   "source": [
    "policy_net = NeuralNetwork(bias = False)"
   ]
  },
  {
   "cell_type": "markdown",
   "metadata": {},
   "source": [
    "Compute number of parameters:"
   ]
  },
  {
   "cell_type": "code",
   "execution_count": 59,
   "metadata": {},
   "outputs": [
    {
     "name": "stdout",
     "output_type": "stream",
     "text": [
      "Number of parameters: 25\n"
     ]
    }
   ],
   "source": [
    "d = sum(\n",
    "\tparam.numel() for param in policy_net.parameters()\n",
    ")\n",
    "print(\"Number of parameters:\", d)"
   ]
  },
  {
   "cell_type": "markdown",
   "metadata": {},
   "source": [
    "Helper function for visualization:"
   ]
  },
  {
   "cell_type": "code",
   "execution_count": 60,
   "metadata": {},
   "outputs": [],
   "source": [
    "def visualize_policy(policy_net):\n",
    "    env_render = gym.make('CartPole-v1', render_mode='rgb_array')\n",
    "    state = env_render.reset()  # Forget about previous episode\n",
    "    state_tensor = torch.Tensor( state[0].reshape((1, state_space_dimension)) )\n",
    "    steps = 0\n",
    "    while True:\n",
    "        out = policy_net(state_tensor)\n",
    "        a = int(out > 0)\n",
    "        state, reward, terminated, truncated, _ = env_render.step(a)  # Simulate pole\n",
    "        steps+=1\n",
    "        state_tensor = torch.Tensor( state.reshape((1, state_space_dimension)) )\n",
    "        clear_output(wait=True)\n",
    "        plt.imshow(env_render.render())\n",
    "        plt.show()\n",
    "        print(\"step:\", steps)\n",
    "        if(terminated or truncated): \n",
    "            break\n",
    "    env_render.close()\n",
    "    return state"
   ]
  },
  {
   "cell_type": "code",
   "execution_count": 61,
   "metadata": {},
   "outputs": [
    {
     "data": {
      "image/png": "[encoded data removed]",
      "text/plain": [
       "<Figure size 288x288 with 1 Axes>"
      ]
     },
     "metadata": {
      "needs_background": "light"
     },
     "output_type": "display_data"
    },
    {
     "name": "stdout",
     "output_type": "stream",
     "text": [
      "step: 55\n"
     ]
    },
    {
     "data": {
      "text/plain": [
       "array([0.12661101, 0.1816336 , 0.2111618 , 0.8486111 ], dtype=float32)"
      ]
     },
     "execution_count": 61,
     "metadata": {},
     "output_type": "execute_result"
    }
   ],
   "source": [
    "visualize_policy(policy_net)"
   ]
  },
  {
   "cell_type": "markdown",
   "metadata": {},
   "source": [
    "Now we define the objective/reward function. \n",
    "When the task is solved the functions returns -1000.\n",
    "One successful trial is sufficient."
   ]
  },
  {
   "cell_type": "code",
   "execution_count": 62,
   "metadata": {},
   "outputs": [],
   "source": [
    "def fitness_cart_pole(x, nn, env):\n",
    "    '''\n",
    "    Returns negative accumulated reward for single pole, fully environment.\n",
    "\n",
    "    Parameters:\n",
    "        x: Parameter vector encoding the weights.\n",
    "        nn: Parameterized model.\n",
    "        env: Environment ('CartPole-v?').\n",
    "    '''\n",
    "    torch.nn.utils.vector_to_parameters(torch.Tensor(x), nn.parameters())  # Set the policy parameters\n",
    "    \n",
    "    state = env.reset()  # Forget about previous episode\n",
    "    state_tensor = torch.Tensor( state[0].reshape((1, state_space_dimension)) )\n",
    "          \n",
    "    R = 0  # Accumulated reward\n",
    "    while True:\n",
    "        out = nn(state_tensor)\n",
    "        a = int(out > 0)\n",
    "        state, reward, terminated, truncated, _ = env.step(a)  # Simulate pole\n",
    "        state_tensor = torch.Tensor( state.reshape((1, state_space_dimension)) )\n",
    "        R += reward  # Accumulate \n",
    "        if truncated:\n",
    "            return -1000  # Episode ended, final goal reached, we consider minimization\n",
    "        if terminated:\n",
    "            return -R  # Episode ended, we consider minimization\n",
    "    return -R  # Never reached  "
   ]
  },
  {
   "cell_type": "markdown",
   "metadata": {},
   "source": [
    "Do the learning:"
   ]
  },
  {
   "cell_type": "code",
   "execution_count": 63,
   "metadata": {
    "scrolled": true
   },
   "outputs": [
    {
     "name": "stdout",
     "output_type": "stream",
     "text": [
      "(6_w,13)-aCMA-ES (mu_w=4.0,w_1=38%) in dimension 25 (seed=1043361, Tue Feb 21 12:09:57 2023)\n",
      "Iterat #Fevals   function value  axis ratio  sigma  min&max std  t[m:s]\n",
      "    1     13 -1.000000000000000e+03 1.0e+00 9.52e-03  9e-03  1e-02 0:00.2\n",
      "termination on ftarget=-999.9 (Tue Feb 21 12:09:57 2023)\n",
      "final/bestever f-value = -1.000000e+03 -1.000000e+03 after 13/2 evaluations\n",
      "incumbent solution: [-0.0078853  -0.0008297  -0.00206513 -0.00152869  0.00328055 -0.02176785\n",
      "  0.01338449  0.01326658 ...]\n",
      "std deviations: [0.00948805 0.00952308 0.00949718 0.00954936 0.00949721 0.00953629\n",
      " 0.00951041 0.00948916 ...]\n",
      "best solution found after 2 evaluations\n"
     ]
    }
   ],
   "source": [
    "# Generate initial search point and initial hidden RNN states\n",
    "initial_weights = np.random.normal(0, 0.01, d)  # Random parameters for initial policy, d denotes the number of weights\n",
    "initial_sigma = .01 # Initial global step-size sigma\n",
    "\n",
    "# Do the optimization\n",
    "res = cma.fmin(fitness_cart_pole,  # Objective function\n",
    "               initial_weights,  # Initial search point\n",
    "               initial_sigma,  # Initial global step-size sigma\n",
    "               args=([policy_net, env]),  # Arguments passed to the fitness function\n",
    "               options={'ftarget': -999.9, 'tolflatfitness':1000, 'eval_final_mean':False})\n",
    "env.close()\n",
    "\n",
    "# Set the policy parameters to the final solution\n",
    "torch.nn.utils.vector_to_parameters(torch.Tensor(res[0]), policy_net.parameters())  \n",
    "\n",
    "print(\"best solution found after\", res[2], \"evaluations\")"
   ]
  },
  {
   "cell_type": "markdown",
   "metadata": {},
   "source": [
    "Render solution:"
   ]
  },
  {
   "cell_type": "code",
   "execution_count": 64,
   "metadata": {
    "scrolled": true
   },
   "outputs": [],
   "source": [
    "#visualize_policy(policy_net)"
   ]
  },
  {
   "cell_type": "code",
   "execution_count": 65,
   "metadata": {},
   "outputs": [],
   "source": [
    "def learn(env, bias):\n",
    "    # dataframe to easily store and compute results\n",
    "    results = []\n",
    "    for i in range(10):\n",
    "        policy_net = NeuralNetwork(bias=bias)\n",
    "        d = sum(param.numel() for param in policy_net.parameters())\n",
    "\n",
    "        initial_weights = np.random.normal(0, 0.01, d)  # Random parameters for initial policy, d denotes the number of weights\n",
    "        initial_sigma = .01 # Initial global step-size sigma\n",
    "\n",
    "        # Do the optimization\n",
    "        res = cma.fmin(fitness_cart_pole,  # Objective function\n",
    "                       initial_weights,  # Initial search point\n",
    "                       initial_sigma,  # Initial global step-size sigma\n",
    "                       args=([policy_net, env]),  # Arguments passed to the fitness function\n",
    "                       options={'ftarget': -999.9, 'tolflatfitness':1000, 'eval_final_mean':False})\n",
    "        env.close()\n",
    "\n",
    "        # Set the policy parameters to the final solution\n",
    "        torch.nn.utils.vector_to_parameters(torch.Tensor(res[0]), policy_net.parameters())  \n",
    "        # store solution\n",
    "        results.append([res[2], policy_net])\n",
    "        #print(\"best solution found after\", res[2], \"evaluations\")\n",
    "    print(f\"Done computing solutions for bias = {bias}\")\n",
    "    return pd.DataFrame(results)"
   ]
  },
  {
   "cell_type": "code",
   "execution_count": 66,
   "metadata": {},
   "outputs": [
    {
     "name": "stdout",
     "output_type": "stream",
     "text": [
      "(7_w,14)-aCMA-ES (mu_w=4.3,w_1=36%) in dimension 31 (seed=1036350, Tue Feb 21 12:09:57 2023)\n",
      "Iterat #Fevals   function value  axis ratio  sigma  min&max std  t[m:s]\n",
      "    1     14 -1.100000000000000e+01 1.0e+00 9.14e-03  9e-03  9e-03 0:00.0\n",
      "    2     28 -2.900000000000000e+01 1.1e+00 8.62e-03  9e-03  9e-03 0:00.0\n",
      "    3     42 -1.000000000000000e+01 1.1e+00 8.30e-03  8e-03  8e-03 0:00.1\n",
      "   88   1232 -9.300000000000000e+01 2.7e+00 7.83e-03  5e-03  9e-03 0:03.1\n",
      "  100   1400 -1.150000000000000e+02 2.9e+00 7.49e-03  5e-03  9e-03 0:04.0\n",
      "  151   2114 -2.440000000000000e+02 3.9e+00 5.40e-03  3e-03  7e-03 0:09.1\n",
      "  188   2632 -1.000000000000000e+03 4.4e+00 5.01e-03  2e-03  6e-03 0:13.4\n",
      "termination on ftarget=-999.9 (Tue Feb 21 12:10:11 2023)\n",
      "final/bestever f-value = -1.000000e+03 -1.000000e+03 after 2632/2620 evaluations\n",
      "incumbent solution: [-0.0217374   0.03752249 -0.02488817  0.05598773  0.0032467  -0.01548695\n",
      " -0.05333332 -0.00898713 ...]\n",
      "std deviations: [0.00491023 0.00483682 0.00491515 0.00511142 0.00452987 0.00564398\n",
      " 0.00547783 0.00515409 ...]\n",
      "(7_w,14)-aCMA-ES (mu_w=4.3,w_1=36%) in dimension 31 (seed=1106452, Tue Feb 21 12:10:11 2023)\n",
      "Iterat #Fevals   function value  axis ratio  sigma  min&max std  t[m:s]\n",
      "    1     14 -1.000000000000000e+01 1.0e+00 9.35e-03  9e-03  9e-03 0:00.0\n",
      "    2     28 -1.000000000000000e+01 1.1e+00 8.93e-03  9e-03  9e-03 0:00.0\n",
      "    3     42 -1.000000000000000e+01 1.1e+00 8.80e-03  9e-03  9e-03 0:00.0\n",
      "  100   1400 -1.100000000000000e+01 1.8e+00 5.00e-03  4e-03  6e-03 0:01.8\n",
      "  200   2800 -1.110000000000000e+02 2.4e+00 2.30e-03  1e-03  3e-03 0:05.8\n",
      "  241   3374 -1.800000000000000e+02 3.9e+00 2.94e-03  1e-03  3e-03 0:10.9\n",
      "  274   3836 -2.320000000000000e+02 5.0e+00 2.84e-03  1e-03  4e-03 0:17.0\n",
      "  300   4200 -4.340000000000000e+02 6.2e+00 2.39e-03  9e-04  3e-03 0:23.4\n",
      "  312   4368 -1.000000000000000e+03 6.4e+00 2.18e-03  7e-04  3e-03 0:27.7\n",
      "termination on ftarget=-999.9 (Tue Feb 21 12:10:40 2023)\n",
      "final/bestever f-value = -1.000000e+03 -1.000000e+03 after 4368/4361 evaluations\n",
      "incumbent solution: [-0.03525282  0.08322785  0.03546919 -0.0123303   0.01485071  0.01757829\n",
      " -0.00629407 -0.04906273 ...]\n",
      "std deviations: [0.00255471 0.00213678 0.00195511 0.001992   0.0023279  0.00196833\n",
      " 0.00213122 0.00238928 ...]\n",
      "(7_w,14)-aCMA-ES (mu_w=4.3,w_1=36%) in dimension 31 (seed=1165151, Tue Feb 21 12:10:40 2023)\n",
      "Iterat #Fevals   function value  axis ratio  sigma  min&max std  t[m:s]\n",
      "    1     14 -1.000000000000000e+01 1.0e+00 9.41e-03  9e-03  9e-03 0:00.0\n",
      "    2     28 -1.000000000000000e+01 1.1e+00 9.18e-03  9e-03  9e-03 0:00.0\n",
      "    3     42 -2.300000000000000e+01 1.1e+00 9.02e-03  9e-03  9e-03 0:00.1\n",
      "   57    798 -1.000000000000000e+03 2.4e+00 1.52e-02  1e-02  2e-02 0:02.7\n",
      "termination on ftarget=-999.9 (Tue Feb 21 12:10:43 2023)\n",
      "final/bestever f-value = -1.000000e+03 -1.000000e+03 after 798/794 evaluations\n",
      "incumbent solution: [ 0.01889071 -0.17040937  0.0151091  -0.16005382  0.06813232  0.01069618\n",
      "  0.03079144 -0.04809678 ...]\n",
      "std deviations: [0.01534551 0.01889698 0.01484533 0.01708514 0.01618893 0.01443619\n",
      " 0.01556244 0.01542575 ...]\n",
      "(7_w,14)-aCMA-ES (mu_w=4.3,w_1=36%) in dimension 31 (seed=1142420, Tue Feb 21 12:10:43 2023)\n",
      "Iterat #Fevals   function value  axis ratio  sigma  min&max std  t[m:s]\n",
      "    1     14 -1.000000000000000e+01 1.0e+00 9.56e-03  9e-03  1e-02 0:00.0\n",
      "    2     28 -1.100000000000000e+01 1.1e+00 9.14e-03  9e-03  9e-03 0:00.0\n",
      "    3     42 -2.300000000000000e+01 1.1e+00 8.82e-03  9e-03  9e-03 0:00.1\n",
      "   71    994 -1.000000000000000e+03 1.9e+00 1.45e-02  1e-02  2e-02 0:01.3\n",
      "termination on ftarget=-999.9 (Tue Feb 21 12:10:45 2023)\n",
      "final/bestever f-value = -1.000000e+03 -1.000000e+03 after 994/985 evaluations\n",
      "incumbent solution: [-0.0137699   0.02877045  0.0345694   0.09722169 -0.08180687  0.01965369\n",
      " -0.02291956 -0.01933097 ...]\n",
      "std deviations: [0.01455537 0.01452239 0.01394728 0.01476    0.01389959 0.01533392\n",
      " 0.01390879 0.01463464 ...]\n",
      "(7_w,14)-aCMA-ES (mu_w=4.3,w_1=36%) in dimension 31 (seed=1117967, Tue Feb 21 12:10:45 2023)\n",
      "Iterat #Fevals   function value  axis ratio  sigma  min&max std  t[m:s]\n",
      "    1     14 -3.700000000000000e+01 1.0e+00 9.56e-03  1e-02  1e-02 0:00.0\n",
      "    2     28 -1.200000000000000e+01 1.1e+00 9.26e-03  9e-03  9e-03 0:00.0\n",
      "    3     42 -1.000000000000000e+01 1.1e+00 9.14e-03  9e-03  9e-03 0:00.1\n",
      "   77   1078 -1.960000000000000e+02 2.5e+00 7.06e-03  5e-03  8e-03 0:03.1\n",
      "   82   1148 -1.000000000000000e+03 2.6e+00 6.25e-03  4e-03  7e-03 0:03.4\n",
      "termination on ftarget=-999.9 (Tue Feb 21 12:10:49 2023)\n",
      "final/bestever f-value = -1.000000e+03 -1.000000e+03 after 1148/1142 evaluations\n",
      "incumbent solution: [0.03296489 0.01134814 0.01081088 0.00596304 0.00033621 0.02110424\n",
      " 0.09864542 0.04930241 ...]\n",
      "std deviations: [0.00617527 0.00615123 0.00653082 0.00607521 0.00611991 0.00614032\n",
      " 0.00649797 0.00619268 ...]\n",
      "(7_w,14)-aCMA-ES (mu_w=4.3,w_1=36%) in dimension 31 (seed=1113918, Tue Feb 21 12:10:49 2023)\n",
      "Iterat #Fevals   function value  axis ratio  sigma  min&max std  t[m:s]\n",
      "    1     14 -1.000000000000000e+01 1.0e+00 9.36e-03  9e-03  9e-03 0:00.0\n",
      "    2     28 -1.000000000000000e+01 1.1e+00 9.22e-03  9e-03  9e-03 0:00.0\n",
      "    3     42 -1.100000000000000e+01 1.1e+00 9.10e-03  9e-03  9e-03 0:00.1\n",
      "   14    196 -1.000000000000000e+03 1.3e+00 9.26e-03  9e-03  1e-02 0:00.3\n",
      "termination on ftarget=-999.9 (Tue Feb 21 12:10:49 2023)\n",
      "final/bestever f-value = -1.000000e+03 -1.000000e+03 after 196/193 evaluations\n",
      "incumbent solution: [ 0.00769899  0.0225214  -0.02464728  0.00149937  0.0161855  -0.02722757\n",
      " -0.03947527 -0.03662749 ...]\n",
      "std deviations: [0.0093478  0.00943954 0.00919819 0.00910757 0.00912281 0.00925406\n",
      " 0.00943472 0.00923952 ...]\n",
      "(7_w,14)-aCMA-ES (mu_w=4.3,w_1=36%) in dimension 31 (seed=1076511, Tue Feb 21 12:10:49 2023)\n",
      "Iterat #Fevals   function value  axis ratio  sigma  min&max std  t[m:s]\n",
      "    1     14 -1.100000000000000e+01 1.0e+00 9.40e-03  9e-03  9e-03 0:00.0\n",
      "    2     28 -1.000000000000000e+01 1.1e+00 8.97e-03  9e-03  9e-03 0:00.0\n",
      "    3     42 -1.100000000000000e+01 1.1e+00 8.75e-03  9e-03  9e-03 0:00.1\n",
      "   89   1246 -4.310000000000000e+02 2.3e+00 8.75e-03  6e-03  1e-02 0:03.1\n",
      "   95   1330 -1.000000000000000e+03 2.5e+00 8.96e-03  6e-03  1e-02 0:03.5\n",
      "termination on ftarget=-999.9 (Tue Feb 21 12:10:53 2023)\n",
      "final/bestever f-value = -1.000000e+03 -1.000000e+03 after 1330/1317 evaluations\n",
      "incumbent solution: [-0.06001682 -0.03383156 -0.02724055  0.07753143 -0.00834592  0.06784791\n",
      "  0.04788846  0.04826359 ...]\n",
      "std deviations: [0.00876243 0.00946941 0.00885254 0.00938654 0.00950527 0.00966701\n",
      " 0.00950687 0.00878197 ...]\n",
      "(7_w,14)-aCMA-ES (mu_w=4.3,w_1=36%) in dimension 31 (seed=1075744, Tue Feb 21 12:10:53 2023)\n",
      "Iterat #Fevals   function value  axis ratio  sigma  min&max std  t[m:s]\n",
      "    1     14 -1.100000000000000e+01 1.0e+00 9.50e-03  9e-03  1e-02 0:00.0\n",
      "    2     28 -2.300000000000000e+01 1.1e+00 9.04e-03  9e-03  9e-03 0:00.0\n",
      "    3     42 -1.100000000000000e+01 1.1e+00 8.70e-03  9e-03  9e-03 0:00.1\n",
      "   11    154 -1.000000000000000e+03 1.2e+00 7.42e-03  7e-03  8e-03 0:00.2\n",
      "termination on ftarget=-999.9 (Tue Feb 21 12:10:54 2023)\n",
      "final/bestever f-value = -1.000000e+03 -1.000000e+03 after 154/145 evaluations\n",
      "incumbent solution: [-0.01514192 -0.010331   -0.02479893 -0.00957229 -0.00424115  0.00141702\n",
      " -0.03952545  0.00679622 ...]\n",
      "std deviations: [0.00735657 0.00736297 0.00730701 0.0074465  0.00743942 0.00734504\n",
      " 0.00748852 0.00759084 ...]\n",
      "(7_w,14)-aCMA-ES (mu_w=4.3,w_1=36%) in dimension 31 (seed=1072387, Tue Feb 21 12:10:54 2023)\n",
      "Iterat #Fevals   function value  axis ratio  sigma  min&max std  t[m:s]\n",
      "    1     14 -1.000000000000000e+01 1.0e+00 9.30e-03  9e-03  9e-03 0:00.0\n",
      "    2     28 -1.100000000000000e+01 1.1e+00 8.93e-03  9e-03  9e-03 0:00.0\n",
      "    3     42 -1.100000000000000e+01 1.1e+00 8.53e-03  8e-03  9e-03 0:00.0\n",
      "   50    700 -1.000000000000000e+03 2.0e+00 1.06e-02  9e-03  1e-02 0:01.3\n",
      "termination on ftarget=-999.9 (Tue Feb 21 12:10:55 2023)\n",
      "final/bestever f-value = -1.000000e+03 -1.000000e+03 after 700/689 evaluations\n",
      "incumbent solution: [ 0.01907487  0.01613663 -0.01323412  0.03110077 -0.06477749  0.01073435\n",
      "  0.00103363  0.00109493 ...]\n",
      "std deviations: [0.01019882 0.01033234 0.01050922 0.01046755 0.01096216 0.01070852\n",
      " 0.01057448 0.01029417 ...]\n",
      "(7_w,14)-aCMA-ES (mu_w=4.3,w_1=36%) in dimension 31 (seed=1109187, Tue Feb 21 12:10:55 2023)\n",
      "Iterat #Fevals   function value  axis ratio  sigma  min&max std  t[m:s]\n",
      "    1     14 -1.000000000000000e+01 1.0e+00 9.15e-03  9e-03  9e-03 0:00.0\n",
      "    2     28 -1.000000000000000e+01 1.1e+00 8.72e-03  9e-03  9e-03 0:00.0\n",
      "    3     42 -1.100000000000000e+01 1.1e+00 8.47e-03  8e-03  9e-03 0:00.1\n",
      "  100   1400 -1.000000000000000e+01 2.0e+00 7.27e-03  6e-03  8e-03 0:01.7\n",
      "  200   2800 -1.000000000000000e+01 2.5e+00 6.30e-03  6e-03  7e-03 0:03.5\n",
      "  300   4200 -1.000000000000000e+01 2.9e+00 5.73e-03  5e-03  6e-03 0:05.3\n",
      "  400   5600 -1.100000000000000e+01 3.5e+00 6.29e-03  5e-03  7e-03 0:07.0\n",
      "  500   7000 -1.100000000000000e+01 3.9e+00 6.38e-03  5e-03  7e-03 0:08.9\n",
      "  600   8400 -1.000000000000000e+01 4.1e+00 4.95e-03  4e-03  6e-03 0:10.6\n",
      "  700   9800 -1.000000000000000e+01 4.6e+00 3.57e-03  3e-03  4e-03 0:12.5\n",
      "  800  11200 -1.000000000000000e+01 5.5e+00 2.44e-03  2e-03  3e-03 0:14.2\n",
      "  900  12600 -1.100000000000000e+01 6.2e+00 1.84e-03  1e-03  2e-03 0:15.9\n",
      " 1000  14000 -1.100000000000000e+01 6.3e+00 3.12e-03  2e-03  4e-03 0:17.8\n",
      "Iterat #Fevals   function value  axis ratio  sigma  min&max std  t[m:s]\n",
      " 1100  15400 -1.000000000000000e+01 6.9e+00 1.48e-03  1e-03  2e-03 0:19.5\n",
      " 1200  16800 -1.100000000000000e+01 7.4e+00 8.52e-04  6e-04  1e-03 0:21.3\n",
      " 1300  18200 -1.000000000000000e+01 8.4e+00 6.24e-04  4e-04  8e-04 0:23.1\n",
      " 1400  19600 -1.000000000000000e+01 9.9e+00 3.83e-04  3e-04  5e-04 0:24.9\n",
      " 1430  20020 -1.000000000000000e+01 1.0e+01 2.16e-04  1e-04  3e-04 0:25.4\n",
      "termination on tolstagnation=1306 (Tue Feb 21 12:11:27 2023)\n",
      "final/bestever f-value = -1.000000e+01 -1.360000e+02 after 20020/109 evaluations\n",
      "incumbent solution: [ 0.05094454  0.0572694   0.00094978 -0.07722385 -0.05590662 -0.12926914\n",
      " -0.08724029  0.1387283  ...]\n",
      "std deviations: [0.00026929 0.00023701 0.00017736 0.0002311  0.00022705 0.00021939\n",
      " 0.00020715 0.00021573 ...]\n",
      "Done computing solutions for bias = True\n",
      "(6_w,13)-aCMA-ES (mu_w=4.0,w_1=38%) in dimension 25 (seed=1093760, Tue Feb 21 12:11:27 2023)\n",
      "Iterat #Fevals   function value  axis ratio  sigma  min&max std  t[m:s]\n",
      "    1     13 -1.000000000000000e+03 1.0e+00 9.18e-03  9e-03  9e-03 0:00.1\n",
      "termination on ftarget=-999.9 (Tue Feb 21 12:11:28 2023)\n",
      "final/bestever f-value = -1.000000e+03 -1.000000e+03 after 13/2 evaluations\n",
      "incumbent solution: [ 0.00387565 -0.00929049  0.00551735  0.0020174  -0.01459994  0.00471719\n",
      " -0.01264618 -0.01067292 ...]\n",
      "std deviations: [0.00918099 0.00917335 0.00916086 0.00918378 0.00917793 0.0092164\n",
      " 0.00916523 0.00925125 ...]\n",
      "(6_w,13)-aCMA-ES (mu_w=4.0,w_1=38%) in dimension 25 (seed=1061720, Tue Feb 21 12:11:28 2023)\n",
      "Iterat #Fevals   function value  axis ratio  sigma  min&max std  t[m:s]\n",
      "    1     13 -1.490000000000000e+02 1.0e+00 9.26e-03  9e-03  9e-03 0:00.1\n",
      "    2     26 -1.100000000000000e+02 1.1e+00 9.19e-03  9e-03  9e-03 0:00.1\n",
      "    3     39 -1.000000000000000e+03 1.1e+00 9.22e-03  9e-03  9e-03 0:00.3\n",
      "termination on ftarget=-999.9 (Tue Feb 21 12:11:28 2023)\n",
      "final/bestever f-value = -1.000000e+03 -1.000000e+03 after 39/31 evaluations\n",
      "incumbent solution: [-0.00679652  0.01196545  0.01120774  0.00189624  0.00257212 -0.03349348\n",
      " -0.00085655  0.01630438 ...]\n",
      "std deviations: [0.00908936 0.00918755 0.00921389 0.00918339 0.00918684 0.00911345\n",
      " 0.00910996 0.00924019 ...]\n",
      "(6_w,13)-aCMA-ES (mu_w=4.0,w_1=38%) in dimension 25 (seed=1099618, Tue Feb 21 12:11:28 2023)\n",
      "Iterat #Fevals   function value  axis ratio  sigma  min&max std  t[m:s]\n",
      "    1     13 -2.290000000000000e+02 1.0e+00 9.55e-03  9e-03  1e-02 0:00.1\n",
      "    2     26 -1.000000000000000e+03 1.1e+00 9.18e-03  9e-03  9e-03 0:00.3\n",
      "termination on ftarget=-999.9 (Tue Feb 21 12:11:28 2023)\n",
      "final/bestever f-value = -1.000000e+03 -1.000000e+03 after 26/16 evaluations\n",
      "incumbent solution: [ 3.06291038e-05  1.32056334e-02  1.52687055e-04  7.79189223e-03\n",
      "  7.77081546e-03 -4.32101444e-03 -4.84371208e-03  1.02622859e-04 ...]\n",
      "std deviations: [0.00908557 0.00920244 0.00916806 0.00922611 0.00918665 0.00911871\n",
      " 0.0091988  0.00922016 ...]\n",
      "(6_w,13)-aCMA-ES (mu_w=4.0,w_1=38%) in dimension 25 (seed=1122269, Tue Feb 21 12:11:28 2023)\n",
      "Iterat #Fevals   function value  axis ratio  sigma  min&max std  t[m:s]\n",
      "    1     13 -5.700000000000000e+01 1.0e+00 9.31e-03  9e-03  9e-03 0:00.0\n",
      "    2     26 -1.000000000000000e+03 1.1e+00 9.13e-03  9e-03  9e-03 0:00.1\n",
      "termination on ftarget=-999.9 (Tue Feb 21 12:11:28 2023)\n",
      "final/bestever f-value = -1.000000e+03 -1.000000e+03 after 26/20 evaluations\n",
      "incumbent solution: [ 0.00207566  0.00925553 -0.01279131 -0.00758996  0.00716374  0.00249108\n",
      "  0.01086838  0.00582574 ...]\n",
      "std deviations: [0.00913463 0.00909716 0.00904723 0.00907677 0.0091034  0.00911957\n",
      " 0.00911665 0.00910798 ...]\n",
      "(6_w,13)-aCMA-ES (mu_w=4.0,w_1=38%) in dimension 25 (seed=1110770, Tue Feb 21 12:11:28 2023)\n",
      "Iterat #Fevals   function value  axis ratio  sigma  min&max std  t[m:s]\n",
      "    1     13 -1.070000000000000e+02 1.0e+00 9.37e-03  9e-03  9e-03 0:00.0\n",
      "    2     26 -1.280000000000000e+02 1.1e+00 9.08e-03  9e-03  9e-03 0:00.1\n",
      "    3     39 -2.890000000000000e+02 1.1e+00 8.87e-03  9e-03  9e-03 0:00.2\n",
      "    4     52 -1.000000000000000e+03 1.1e+00 9.15e-03  9e-03  9e-03 0:00.5\n",
      "termination on ftarget=-999.9 (Tue Feb 21 12:11:29 2023)\n",
      "final/bestever f-value = -1.000000e+03 -1.000000e+03 after 52/43 evaluations\n",
      "incumbent solution: [ 0.02935591  0.00104549  0.00794544  0.00172548 -0.01650113  0.00679398\n",
      "  0.00090697  0.01310249 ...]\n",
      "std deviations: [0.00915447 0.00910615 0.00906145 0.00923395 0.00921281 0.00914097\n",
      " 0.00901004 0.00915543 ...]\n",
      "(6_w,13)-aCMA-ES (mu_w=4.0,w_1=38%) in dimension 25 (seed=1101612, Tue Feb 21 12:11:29 2023)\n",
      "Iterat #Fevals   function value  axis ratio  sigma  min&max std  t[m:s]\n",
      "    1     13 -1.000000000000000e+03 1.0e+00 9.21e-03  9e-03  9e-03 0:00.1\n",
      "termination on ftarget=-999.9 (Tue Feb 21 12:11:29 2023)\n",
      "final/bestever f-value = -1.000000e+03 -1.000000e+03 after 13/11 evaluations\n",
      "incumbent solution: [ 0.0039955  -0.01569268 -0.01461543  0.0009724  -0.01199026  0.00994162\n",
      "  0.00778904 -0.00691437 ...]\n",
      "std deviations: [0.00912502 0.0092304  0.00913519 0.00919568 0.00912419 0.00920986\n",
      " 0.00922486 0.0091839  ...]\n",
      "(6_w,13)-aCMA-ES (mu_w=4.0,w_1=38%) in dimension 25 (seed=1058984, Tue Feb 21 12:11:29 2023)\n",
      "Iterat #Fevals   function value  axis ratio  sigma  min&max std  t[m:s]\n",
      "    1     13 -7.600000000000000e+01 1.0e+00 9.41e-03  9e-03  9e-03 0:00.0\n",
      "    2     26 -1.180000000000000e+02 1.1e+00 9.00e-03  9e-03  9e-03 0:00.1\n",
      "    3     39 -1.000000000000000e+03 1.1e+00 8.89e-03  9e-03  9e-03 0:00.2\n",
      "termination on ftarget=-999.9 (Tue Feb 21 12:11:29 2023)\n",
      "final/bestever f-value = -1.000000e+03 -1.000000e+03 after 39/33 evaluations\n",
      "incumbent solution: [ 8.36720015e-05  2.37361698e-02 -9.55664317e-03 -4.17323856e-03\n",
      " -6.28309596e-03  3.95661291e-03 -5.44716050e-03  8.91877427e-03 ...]\n",
      "std deviations: [0.00892485 0.00878024 0.0088569  0.00885468 0.00884999 0.00884284\n",
      " 0.00890224 0.00880651 ...]\n",
      "(6_w,13)-aCMA-ES (mu_w=4.0,w_1=38%) in dimension 25 (seed=1130436, Tue Feb 21 12:11:29 2023)\n",
      "Iterat #Fevals   function value  axis ratio  sigma  min&max std  t[m:s]\n",
      "    1     13 -1.040000000000000e+02 1.0e+00 9.56e-03  9e-03  1e-02 0:00.0\n",
      "    2     26 -1.000000000000000e+03 1.1e+00 9.46e-03  9e-03  1e-02 0:00.2\n",
      "termination on ftarget=-999.9 (Tue Feb 21 12:11:29 2023)\n",
      "final/bestever f-value = -1.000000e+03 -1.000000e+03 after 26/15 evaluations\n",
      "incumbent solution: [-0.01417137 -0.00433406  0.01502694 -0.00773365  0.01180643 -0.0004176\n",
      " -0.00017293  0.0065091  ...]\n",
      "std deviations: [0.00955454 0.00947362 0.00942509 0.00934813 0.00947473 0.00944377\n",
      " 0.00946956 0.00945831 ...]\n",
      "(6_w,13)-aCMA-ES (mu_w=4.0,w_1=38%) in dimension 25 (seed=1149685, Tue Feb 21 12:11:29 2023)\n",
      "Iterat #Fevals   function value  axis ratio  sigma  min&max std  t[m:s]\n",
      "    1     13 -8.100000000000000e+01 1.0e+00 9.61e-03  1e-02  1e-02 0:00.0\n",
      "    2     26 -4.660000000000000e+02 1.1e+00 9.36e-03  9e-03  9e-03 0:00.1\n",
      "    3     39 -2.120000000000000e+02 1.1e+00 9.09e-03  9e-03  9e-03 0:00.2\n",
      "    6     78 -1.000000000000000e+03 1.2e+00 8.96e-03  9e-03  9e-03 0:00.7\n",
      "termination on ftarget=-999.9 (Tue Feb 21 12:11:30 2023)\n",
      "final/bestever f-value = -1.000000e+03 -1.000000e+03 after 78/73 evaluations\n",
      "incumbent solution: [ 0.01054639  0.0063386  -0.00087231  0.00023726  0.02046516 -0.03496739\n",
      "  0.01617373 -0.00021261 ...]\n",
      "std deviations: [0.0091292  0.00905197 0.00880817 0.00890726 0.00895479 0.00899019\n",
      " 0.0090716  0.00889184 ...]\n",
      "(6_w,13)-aCMA-ES (mu_w=4.0,w_1=38%) in dimension 25 (seed=1123035, Tue Feb 21 12:11:30 2023)\n",
      "Iterat #Fevals   function value  axis ratio  sigma  min&max std  t[m:s]\n",
      "    1     13 -3.000000000000000e+01 1.0e+00 9.28e-03  9e-03  9e-03 0:00.0\n",
      "    2     26 -4.190000000000000e+02 1.1e+00 8.99e-03  9e-03  9e-03 0:00.1\n",
      "    3     39 -2.310000000000000e+02 1.1e+00 8.97e-03  9e-03  9e-03 0:00.2\n",
      "    4     52 -1.000000000000000e+03 1.1e+00 8.99e-03  9e-03  9e-03 0:00.4\n",
      "termination on ftarget=-999.9 (Tue Feb 21 12:11:31 2023)\n",
      "final/bestever f-value = -1.000000e+03 -1.000000e+03 after 52/42 evaluations\n",
      "incumbent solution: [ 0.01613745  0.00032877 -0.00093744 -0.00235843  0.00025568 -0.00904445\n",
      "  0.02297796 -0.00927427 ...]\n",
      "std deviations: [0.00886115 0.00897051 0.00892142 0.00901243 0.00904779 0.00890873\n",
      " 0.00896705 0.00891103 ...]\n",
      "Done computing solutions for bias = False\n"
     ]
    }
   ],
   "source": [
    "model_bias = learn(env,bias=True)\n",
    "model_no_bias = learn(env,bias=False)"
   ]
  },
  {
   "cell_type": "code",
   "execution_count": 67,
   "metadata": {},
   "outputs": [
    {
     "name": "stdout",
     "output_type": "stream",
     "text": [
      "average # of evaluation biased model: 1235.5\n",
      "average # of evaluation unbiased model: 28.6\n"
     ]
    }
   ],
   "source": [
    "avg_model_bias = model_bias[0].mean()\n",
    "avg_model_no_bias = model_no_bias[0].mean()\n",
    "print(f\"average # of evaluation biased model: {avg_model_bias}\")\n",
    "print(f\"average # of evaluation unbiased model: {avg_model_no_bias}\")"
   ]
  },
  {
   "cell_type": "code",
   "execution_count": 68,
   "metadata": {},
   "outputs": [],
   "source": [
    "def policy(policy_net, seed):\n",
    "    env_render = gym.make('CartPole-v1', render_mode=None)\n",
    "    state = env_render.reset(seed=seed)\n",
    "    state_tensor = torch.Tensor(state[0].reshape((1, state_space_dimension)))\n",
    "    steps = 0\n",
    "    while True:\n",
    "        out = policy_net(state_tensor)\n",
    "        a = int(out > 0)\n",
    "        state, reward, terminated, truncated, _ = env_render.step(a)\n",
    "        steps += 1\n",
    "        state_tensor = torch.Tensor(state.reshape((1, state_space_dimension)))\n",
    "        clear_output(wait=True)\n",
    "        print(\"step:\", steps)\n",
    "        if(terminated or truncated): \n",
    "            break\n",
    "    env_render.close()\n",
    "    return steps"
   ]
  },
  {
   "cell_type": "code",
   "execution_count": 69,
   "metadata": {},
   "outputs": [
    {
     "name": "stdout",
     "output_type": "stream",
     "text": [
      "step: 266\n"
     ]
    }
   ],
   "source": [
    "avg_number_step_bias_model = []\n",
    "avg_number_step_unbiased_model = []\n",
    "for i in model_bias[1]:\n",
    "    avg_number_step_bias_model.append(run_policy(i,69))\n",
    "for i in model_no_bias[1]:\n",
    "    avg_number_step_unbiased_model.append(run_policy(i,69))\n",
    "\n"
   ]
  },
  {
   "cell_type": "code",
   "execution_count": 70,
   "metadata": {},
   "outputs": [
    {
     "name": "stdout",
     "output_type": "stream",
     "text": [
      "average # of evaluation biased model: 187.9\n",
      "average # of evaluation unbiased model: 276.9\n"
     ]
    }
   ],
   "source": [
    "print(f\"average # of evaluation biased model: {np.mean(avg_number_step_bias_model)}\")\n",
    "print(f\"average # of evaluation unbiased model: {np.mean(avg_number_step_unbiased_model)}\")"
   ]
  },
  {
   "cell_type": "markdown",
   "metadata": {},
   "source": [
    "Learn more about CMA-ES optimization:"
   ]
  },
  {
   "cell_type": "code",
   "execution_count": 71,
   "metadata": {},
   "outputs": [],
   "source": [
    "# Visualize the optimization \n",
    "#cma.plot();  "
   ]
  },
  {
   "cell_type": "code",
   "execution_count": 72,
   "metadata": {},
   "outputs": [],
   "source": [
    "# Learn even more on CMA-ES\n",
    "#cma.CMAOptions() "
   ]
  },
  {
   "cell_type": "code",
   "execution_count": null,
   "metadata": {},
   "outputs": [],
   "source": []
  }
 ],
 "metadata": {
  "kernelspec": {
   "display_name": "Python 3",
   "language": "python",
   "name": "python3"
  },
  "language_info": {
   "codemirror_mode": {
    "name": "ipython",
    "version": 3
   },
   "file_extension": ".py",
   "mimetype": "text/x-python",
   "name": "python",
   "nbconvert_exporter": "python",
   "pygments_lexer": "ipython3",
   "version": "3.10.4"
  },
  "vscode": {
   "interpreter": {
    "hash": "c7a68dc2e3110d80647fac8693cdc5243ade541bc79b3bfddbf1397505f434ab"
   }
  }
 },
 "nbformat": 4,
 "nbformat_minor": 2
}
