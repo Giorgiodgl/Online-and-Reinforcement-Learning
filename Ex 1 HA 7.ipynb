{
 "cells": [
  {
   "cell_type": "code",
   "execution_count": 2,
   "metadata": {},
   "outputs": [],
   "source": [
    "import numpy as np\n",
    "import matplotlib as plt\n",
    "import matplotlib.pyplot"
   ]
  },
  {
   "cell_type": "code",
   "execution_count": 3,
   "metadata": {},
   "outputs": [],
   "source": [
    "class four_room():\n",
    "\n",
    "\tdef __init__(self):\n",
    "\t\tself.nS = 20\n",
    "\t\tnS = self.nS\n",
    "\t\tself.nA = 4\n",
    "\n",
    "\t\tself.map = [[-1, -1, -1, -1, -1, -1, -1],\n",
    "\t\t\t\t\t[-1,  0,  1,  2,  3,  4, -1],\n",
    "\t\t\t\t\t[-1,  5,  6, -1,  7,  8, -1],\n",
    "\t\t\t\t\t[-1,  9, -1, -1, 10, -1, -1],\n",
    "\t\t\t\t\t[-1, 11, 12, 13, 14, 15, -1],\n",
    "\t\t\t\t\t[-1, 16, 17, -1, 18, 19, -1],\n",
    "\t\t\t\t\t[-1, -1, -1, -1, -1, -1, -1]]\n",
    "\t\tmap = np.array(self.map)\n",
    "\n",
    "\t\t# We build the transitions matrix P using the map.\n",
    "\t\tself.P = np.zeros((nS, 4, nS))\n",
    "\t\tfor s in range(nS):\n",
    "\t\t\ttemp = np.where(s == map)\n",
    "\t\t\tx, y = temp[0][0], temp[1][0]\n",
    "\t\t\tup = map[x-1, y]\n",
    "\t\t\tright = map[x, y+1]\n",
    "\t\t\tdown = map[x+1, y]\n",
    "\t\t\tleft = map[x, y-1]\n",
    "\n",
    "\t\t\t# Action 0: go up.\n",
    "\t\t\ta = 0\n",
    "\t\t\tself.P[s, a, s] += 0.1\n",
    "\t\t\t# Up\n",
    "\t\t\tif up == -1:\n",
    "\t\t\t\tself.P[s, a, s] += 0.7\n",
    "\t\t\telse:\n",
    "\t\t\t\tself.P[s, a, up] += 0.7\n",
    "\t\t\t# Right\n",
    "\t\t\tif right == -1:\n",
    "\t\t\t\tself.P[s, a, s] += 0.1\n",
    "\t\t\telse:\n",
    "\t\t\t\tself.P[s, a, right] += 0.1\n",
    "\t\t\t# Left\n",
    "\t\t\tif left == -1:\n",
    "\t\t\t\tself.P[s, a, s] += 0.1\n",
    "\t\t\telse:\n",
    "\t\t\t\tself.P[s, a, left] += 0.1\n",
    "\t\t\t\n",
    "\t\t\t# Action 1: go right.\n",
    "\t\t\ta = 1\n",
    "\t\t\tself.P[s, a, s] += 0.1\n",
    "\t\t\t# Up\n",
    "\t\t\tif up == -1:\n",
    "\t\t\t\tself.P[s, a, s] += 0.1\n",
    "\t\t\telse:\n",
    "\t\t\t\tself.P[s, a, up] += 0.1\n",
    "\t\t\t# Right\n",
    "\t\t\tif right == -1:\n",
    "\t\t\t\tself.P[s, a, s] += 0.7\n",
    "\t\t\telse:\n",
    "\t\t\t\tself.P[s, a, right] += 0.7\n",
    "\t\t\t# Down\n",
    "\t\t\tif down == -1:\n",
    "\t\t\t\tself.P[s, a, s] += 0.1\n",
    "\t\t\telse:\n",
    "\t\t\t\tself.P[s, a, down] += 0.1\n",
    "\t\t\t\n",
    "\t\t\t# Action 2: go down.\n",
    "\t\t\ta = 2\n",
    "\t\t\tself.P[s, a, s] += 0.1\n",
    "\t\t\t# Right\n",
    "\t\t\tif right == -1:\n",
    "\t\t\t\tself.P[s, a, s] += 0.1\n",
    "\t\t\telse:\n",
    "\t\t\t\tself.P[s, a, right] += 0.1\n",
    "\t\t\t# Down\n",
    "\t\t\tif down == -1:\n",
    "\t\t\t\tself.P[s, a, s] += 0.7\n",
    "\t\t\telse:\n",
    "\t\t\t\tself.P[s, a, down] += 0.7\n",
    "\t\t\t# Left\n",
    "\t\t\tif left == -1:\n",
    "\t\t\t\tself.P[s, a, s] += 0.1\n",
    "\t\t\telse:\n",
    "\t\t\t\tself.P[s, a, left] += 0.1\n",
    "\n",
    "\t\t\t# Action 3: go left.\n",
    "\t\t\ta = 3\n",
    "\t\t\tself.P[s, a, s] += 0.1\n",
    "\t\t\t# Up\n",
    "\t\t\tif up == -1:\n",
    "\t\t\t\tself.P[s, a, s] += 0.1\n",
    "\t\t\telse:\n",
    "\t\t\t\tself.P[s, a, up] += 0.1\n",
    "\t\t\t# Down\n",
    "\t\t\tif down == -1:\n",
    "\t\t\t\tself.P[s, a, s] += 0.1\n",
    "\t\t\telse:\n",
    "\t\t\t\tself.P[s, a, down] += 0.1\n",
    "\t\t\t# Left\n",
    "\t\t\tif left == -1:\n",
    "\t\t\t\tself.P[s, a, s] += 0.7\n",
    "\t\t\telse:\n",
    "\t\t\t\tself.P[s, a, left] += 0.7\n",
    "\t\t\t\n",
    "\t\t\t# Set to teleport back when in the rewarding state.\n",
    "\t\t\tif s == self.nS - 1:\n",
    "\t\t\t\tfor a in range(4):\n",
    "\t\t\t\t\tfor ss in range(self.nS):\n",
    "\t\t\t\t\t\tself.P[s, a, ss] = 0\n",
    "\t\t\t\t\t\tif ss == 0:\n",
    "\t\t\t\t\t\t\tself.P[s, a, ss] = 1\n",
    "\n",
    "\t\t\t\n",
    "\t\t# We build the reward matrix R.\n",
    "\t\tself.R = np.zeros((nS, 4))\n",
    "\t\tfor a in range(4):\n",
    "\t\t\tself.R[nS - 1, a] = 1\n",
    "\n",
    "\t\t# We (arbitrarily) set the initial state in the top-left corner.\n",
    "\t\tself.s = 0\n",
    "\n",
    "\t# To reset the environment in initial settings.\n",
    "\tdef reset(self):\n",
    "\t\tself.s = 0\n",
    "\t\treturn self.s\n",
    "\n",
    "\t# Perform a step in the environment for a given action. Return a couple state, reward (s_t, r_t).\n",
    "\tdef step(self, action):\n",
    "\t\tnew_s = np.random.choice(np.arange(self.nS), p=self.P[self.s, action])\n",
    "\t\treward = self.R[self.s, action]\n",
    "\t\tself.s = new_s\n",
    "\t\treturn new_s, reward"
   ]
  },
  {
   "cell_type": "code",
   "execution_count": 4,
   "metadata": {},
   "outputs": [],
   "source": [
    "env = four_room()"
   ]
  },
  {
   "cell_type": "code",
   "execution_count": 5,
   "metadata": {},
   "outputs": [],
   "source": [
    "def exp_rew(env, s, a, V):\n",
    "    x = env.R[s, a] + np.sum([env.P[s, a, s_] * V[s_] for s_ in range(env.nS)])\n",
    "    return x"
   ]
  },
  {
   "cell_type": "code",
   "execution_count": 6,
   "metadata": {},
   "outputs": [],
   "source": [
    "def pi(V, env):\n",
    "    pi = np.zeros(env.nS,dtype = int)\n",
    "    for s in range(env.nS):\n",
    "        pi[s] = np.argmax([exp_rew(env, s, a, V) for a in range(env.nA)])\n",
    "    return pi"
   ]
  },
  {
   "cell_type": "code",
   "execution_count": 7,
   "metadata": {},
   "outputs": [],
   "source": [
    "def convergence(f):\n",
    "    return np.max(f) - np.min(f)"
   ]
  },
  {
   "cell_type": "code",
   "execution_count": 16,
   "metadata": {},
   "outputs": [],
   "source": [
    "def VI_ar(env, epsilon=10 ** -6):\n",
    "\n",
    "    # Initialization\n",
    "    V0 = np.zeros(env.nS)\n",
    "    V1 = np.zeros(env.nS)\n",
    "    n_iter = 0\n",
    "\n",
    "    while True:\n",
    "        n_iter += 1\n",
    "        V0 = V1.copy()\n",
    "        for s in range(env.nS):\n",
    "            V1[s] = np.max([exp_rew(env, s, a, V0) for a in range(env.nA)])\n",
    "\n",
    "        if convergence(V1 - V0) < epsilon:\n",
    "            break\n",
    "\n",
    "    V = V1\n",
    "    policy = pi(V, env)\n",
    "    g = (np.max(V1 - V0) + np.min(V1 - V0)) / 2\n",
    "    b = V - np.min(V)\n",
    "\n",
    "    return V, policy, g, b"
   ]
  },
  {
   "cell_type": "code",
   "execution_count": 27,
   "metadata": {},
   "outputs": [
    {
     "data": {
      "text/plain": [
       "(array([11.06132241, 11.15585494, 11.27739645, 11.38543287, 11.30271762,\n",
       "        11.15585494, 11.06132241, 11.5207192 , 11.39893747, 11.27739645,\n",
       "        11.64615254, 11.38543287, 11.5207192 , 11.64615254, 11.75418877,\n",
       "        11.8622254 , 11.30271762, 11.39893747, 11.8622254 , 11.9856963 ]),\n",
       " array([1, 1, 1, 2, 2, 2, 0, 2, 3, 2, 2, 1, 1, 1, 1, 2, 1, 0, 1, 0]),\n",
       " 0.0756256205775161,\n",
       " array([0.00000000e+00, 9.45325245e-02, 2.16074040e-01, 3.24110455e-01,\n",
       "        2.41395207e-01, 9.45325245e-02, 1.77635684e-15, 4.59396786e-01,\n",
       "        3.37615056e-01, 2.16074040e-01, 5.84830132e-01, 3.24110455e-01,\n",
       "        4.59396786e-01, 5.84830132e-01, 6.92866356e-01, 8.00902991e-01,\n",
       "        2.41395207e-01, 3.37615056e-01, 8.00902991e-01, 9.24373887e-01]))"
      ]
     },
     "execution_count": 27,
     "metadata": {},
     "output_type": "execute_result"
    }
   ],
   "source": [
    "V, policy, gain, bias= VI_ar(env)\n",
    "V, policy, gain, bias"
   ]
  },
  {
   "cell_type": "code",
   "execution_count": 28,
   "metadata": {},
   "outputs": [
    {
     "data": {
      "text/plain": [
       "0.9243738874162108"
      ]
     },
     "execution_count": 28,
     "metadata": {},
     "output_type": "execute_result"
    }
   ],
   "source": [
    "span_bias = convergence(bias)\n",
    "span_bias"
   ]
  },
  {
   "cell_type": "code",
   "execution_count": 11,
   "metadata": {},
   "outputs": [
    {
     "data": {
      "image/png": "[encoded data removed]",
      "text/plain": [
       "<Figure size 345.6x345.6 with 1 Axes>"
      ]
     },
     "metadata": {
      "needs_background": "light"
     },
     "output_type": "display_data"
    }
   ],
   "source": [
    "map = (env.map == -np.ones_like(env.map)).astype(int)\n",
    "map[1, 1] = 2\n",
    "map[-2, -2] = 3\n",
    "plt.pyplot.matshow(map, cmap=plt.colors.ListedColormap([\"white\", \"black\", \"red\", \"yellow\"]))\n",
    "N = 0\n",
    "for i in range(map.shape[0] - 2):\n",
    "    for j in range(map.shape[0] - 2):\n",
    "        x = j\n",
    "        y = i\n",
    "        if not map[i + 1, j + 1] == 1:\n",
    "            ox = 0\n",
    "            oy = 0\n",
    "            dir = [\n",
    "                (0 + ox, -1 + oy),\n",
    "                (1 + ox, 0 + oy),\n",
    "                (0 + ox, 1 + oy),\n",
    "                (-1 + ox, 0 + oy),\n",
    "            ][policy[N]]\n",
    "\n",
    "            plt.pyplot.arrow(\n",
    "                1 + x + (0.15 if i == j == map.shape[0] - 3 else 0),\n",
    "                1 + y,\n",
    "                dir[0] / 2,\n",
    "                dir[1] / 2,\n",
    "                head_width=0.1,\n",
    "                head_length=0.05\n",
    "            )\n",
    "            N += 1\n",
    "# plt.colorbar()\n",
    "plt.pyplot.show()"
   ]
  },
  {
   "attachments": {},
   "cell_type": "markdown",
   "metadata": {},
   "source": [
    "Random Teleport"
   ]
  },
  {
   "cell_type": "code",
   "execution_count": 19,
   "metadata": {},
   "outputs": [],
   "source": [
    "class four_room_random():\n",
    "\n",
    "\tdef __init__(self):\n",
    "\t\tself.nS = 20\n",
    "\t\tnS = self.nS\n",
    "\t\tself.nA = 4\n",
    "\n",
    "\t\tself.map = [[-1, -1, -1, -1, -1, -1, -1],\n",
    "\t\t\t\t\t[-1,  0,  1,  2,  3,  4, -1],\n",
    "\t\t\t\t\t[-1,  5,  6, -1,  7,  8, -1],\n",
    "\t\t\t\t\t[-1,  9, -1, -1, 10, -1, -1],\n",
    "\t\t\t\t\t[-1, 11, 12, 13, 14, 15, -1],\n",
    "\t\t\t\t\t[-1, 16, 17, -1, 18, 19, -1],\n",
    "\t\t\t\t\t[-1, -1, -1, -1, -1, -1, -1]]\n",
    "\t\tmap = np.array(self.map)\n",
    "\n",
    "\t\t# We build the transitions matrix P using the map.\n",
    "\t\tself.P = np.zeros((nS, 4, nS))\n",
    "\t\tfor s in range(nS):\n",
    "\t\t\ttemp = np.where(s == map)\n",
    "\t\t\tx, y = temp[0][0], temp[1][0]\n",
    "\t\t\tup = map[x-1, y]\n",
    "\t\t\tright = map[x, y+1]\n",
    "\t\t\tdown = map[x+1, y]\n",
    "\t\t\tleft = map[x, y-1]\n",
    "\n",
    "\t\t\t# Action 0: go up.\n",
    "\t\t\ta = 0\n",
    "\t\t\tself.P[s, a, s] += 0.1\n",
    "\t\t\t# Up\n",
    "\t\t\tif up == -1:\n",
    "\t\t\t\tself.P[s, a, s] += 0.7\n",
    "\t\t\telse:\n",
    "\t\t\t\tself.P[s, a, up] += 0.7\n",
    "\t\t\t# Right\n",
    "\t\t\tif right == -1:\n",
    "\t\t\t\tself.P[s, a, s] += 0.1\n",
    "\t\t\telse:\n",
    "\t\t\t\tself.P[s, a, right] += 0.1\n",
    "\t\t\t# Left\n",
    "\t\t\tif left == -1:\n",
    "\t\t\t\tself.P[s, a, s] += 0.1\n",
    "\t\t\telse:\n",
    "\t\t\t\tself.P[s, a, left] += 0.1\n",
    "\t\t\t\n",
    "\t\t\t# Action 1: go right.\n",
    "\t\t\ta = 1\n",
    "\t\t\tself.P[s, a, s] += 0.1\n",
    "\t\t\t# Up\n",
    "\t\t\tif up == -1:\n",
    "\t\t\t\tself.P[s, a, s] += 0.1\n",
    "\t\t\telse:\n",
    "\t\t\t\tself.P[s, a, up] += 0.1\n",
    "\t\t\t# Right\n",
    "\t\t\tif right == -1:\n",
    "\t\t\t\tself.P[s, a, s] += 0.7\n",
    "\t\t\telse:\n",
    "\t\t\t\tself.P[s, a, right] += 0.7\n",
    "\t\t\t# Down\n",
    "\t\t\tif down == -1:\n",
    "\t\t\t\tself.P[s, a, s] += 0.1\n",
    "\t\t\telse:\n",
    "\t\t\t\tself.P[s, a, down] += 0.1\n",
    "\t\t\t\n",
    "\t\t\t# Action 2: go down.\n",
    "\t\t\ta = 2\n",
    "\t\t\tself.P[s, a, s] += 0.1\n",
    "\t\t\t# Right\n",
    "\t\t\tif right == -1:\n",
    "\t\t\t\tself.P[s, a, s] += 0.1\n",
    "\t\t\telse:\n",
    "\t\t\t\tself.P[s, a, right] += 0.1\n",
    "\t\t\t# Down\n",
    "\t\t\tif down == -1:\n",
    "\t\t\t\tself.P[s, a, s] += 0.7\n",
    "\t\t\telse:\n",
    "\t\t\t\tself.P[s, a, down] += 0.7\n",
    "\t\t\t# Left\n",
    "\t\t\tif left == -1:\n",
    "\t\t\t\tself.P[s, a, s] += 0.1\n",
    "\t\t\telse:\n",
    "\t\t\t\tself.P[s, a, left] += 0.1\n",
    "\n",
    "\t\t\t# Action 3: go left.\n",
    "\t\t\ta = 3\n",
    "\t\t\tself.P[s, a, s] += 0.1\n",
    "\t\t\t# Up\n",
    "\t\t\tif up == -1:\n",
    "\t\t\t\tself.P[s, a, s] += 0.1\n",
    "\t\t\telse:\n",
    "\t\t\t\tself.P[s, a, up] += 0.1\n",
    "\t\t\t# Down\n",
    "\t\t\tif down == -1:\n",
    "\t\t\t\tself.P[s, a, s] += 0.1\n",
    "\t\t\telse:\n",
    "\t\t\t\tself.P[s, a, down] += 0.1\n",
    "\t\t\t# Left\n",
    "\t\t\tif left == -1:\n",
    "\t\t\t\tself.P[s, a, s] += 0.7\n",
    "\t\t\telse:\n",
    "\t\t\t\tself.P[s, a, left] += 0.7\n",
    "\t\t\t\n",
    "\t\t\t# Set to teleport back when in the rewarding state\n",
    "\t\t\tprob = 1/(self.nS - 1)\n",
    "\t\t\tif s == self.nS - 1:\n",
    "\t\t\t\tfor a in range(4):\n",
    "\t\t\t\t\tfor ss in range(self.nS):\n",
    "\t\t\t\t\t\tself.P[s, a, ss] = 0\n",
    "\t\t\t\t\t\tif ss != s:\n",
    "\t\t\t\t\t\t\tself.P[s, a, ss] = prob\n",
    "\n",
    "\t\t\t\n",
    "\t\t# We build the reward matrix R.\n",
    "\t\tself.R = np.zeros((nS, 4))\n",
    "\t\tfor a in range(4):\n",
    "\t\t\tself.R[nS - 1, a] = 1\n",
    "\n",
    "\t\t# We (arbitrarily) set the initial state in the top-left corner.\n",
    "\t\tself.s = 0\n",
    "\n",
    "\t# To reset the environment in initial settings.\n",
    "\tdef reset(self):\n",
    "\t\tself.s = 0\n",
    "\t\treturn self.s\n",
    "\n",
    "\t# Perform a step in the environment for a given action. Return a couple state, reward (s_t, r_t).\n",
    "\tdef step(self, action):\n",
    "\t\tnew_s = np.random.choice(np.arange(self.nS), p=self.P[self.s, action])\n",
    "\t\treward = self.R[self.s, action]\n",
    "\t\tself.s = new_s\n",
    "\t\treturn new_s, reward"
   ]
  },
  {
   "cell_type": "code",
   "execution_count": 20,
   "metadata": {},
   "outputs": [],
   "source": [
    "env_ran = four_room_random()"
   ]
  },
  {
   "cell_type": "code",
   "execution_count": 21,
   "metadata": {},
   "outputs": [
    {
     "data": {
      "text/plain": [
       "(array([5.00886987, 5.15621899, 5.34566785, 5.51406722, 5.38513633,\n",
       "        5.15621899, 5.00886987, 5.7249428 , 5.53511708, 5.34566785,\n",
       "        5.92046093, 5.51406722, 5.7249428 , 5.92046093, 6.08886098,\n",
       "        6.25726077, 5.38513633, 5.53511708, 6.25726077, 6.44971743]),\n",
       " array([1, 1, 1, 2, 2, 2, 0, 2, 3, 2, 2, 1, 1, 1, 1, 2, 1, 0, 1, 0]),\n",
       " 0.11787970699374473,\n",
       " array([0.        , 0.14734912, 0.33679799, 0.50519735, 0.37626646,\n",
       "        0.14734912, 0.        , 0.71607294, 0.52624721, 0.33679799,\n",
       "        0.91159106, 0.50519735, 0.71607294, 0.91159106, 1.07999111,\n",
       "        1.2483909 , 0.37626646, 0.52624721, 1.2483909 , 1.44084756]))"
      ]
     },
     "execution_count": 21,
     "metadata": {},
     "output_type": "execute_result"
    }
   ],
   "source": [
    "V, policy, gain, bias= VI_ar(env_ran)\n",
    "V, policy, gain, bias"
   ]
  },
  {
   "cell_type": "code",
   "execution_count": 25,
   "metadata": {},
   "outputs": [
    {
     "data": {
      "image/png": "[encoded data removed]",
      "text/plain": [
       "<Figure size 288x288 with 1 Axes>"
      ]
     },
     "metadata": {
      "needs_background": "light"
     },
     "output_type": "display_data"
    }
   ],
   "source": [
    "map = (env.map == -np.ones_like(env.map)).astype(int)\n",
    "map[-2, -2] = 3\n",
    "plt.pyplot.matshow(map, cmap=plt.colors.ListedColormap([\"white\", \"black\", \"yellow\"]))\n",
    "N = 0\n",
    "for i in range(map.shape[0] - 2):\n",
    "    for j in range(map.shape[0] - 2):\n",
    "        x = j\n",
    "        y = i\n",
    "        if not map[i + 1, j + 1] == 1:\n",
    "            ox = 0\n",
    "            oy = 0\n",
    "            dir = [\n",
    "                (0 + ox, -1 + oy),\n",
    "                (1 + ox, 0 + oy),\n",
    "                (0 + ox, 1 + oy),\n",
    "                (-1 + ox, 0 + oy),\n",
    "            ][policy[N]]\n",
    "\n",
    "            plt.pyplot.arrow(\n",
    "                1 + x + (0.15 if i == j == map.shape[0] - 3 else 0),\n",
    "                1 + y,\n",
    "                dir[0] / 2,\n",
    "                dir[1] / 2,\n",
    "                head_width=0.1,\n",
    "                head_length=0.05\n",
    "            )\n",
    "            N += 1\n",
    "# plt.colorbar()\n",
    "plt.pyplot.show()"
   ]
  }
 ],
 "metadata": {
  "kernelspec": {
   "display_name": "Python 3",
   "language": "python",
   "name": "python3"
  },
  "language_info": {
   "codemirror_mode": {
    "name": "ipython",
    "version": 3
   },
   "file_extension": ".py",
   "mimetype": "text/x-python",
   "name": "python",
   "nbconvert_exporter": "python",
   "pygments_lexer": "ipython3",
   "version": "3.10.10"
  },
  "orig_nbformat": 4
 },
 "nbformat": 4,
 "nbformat_minor": 2
}
