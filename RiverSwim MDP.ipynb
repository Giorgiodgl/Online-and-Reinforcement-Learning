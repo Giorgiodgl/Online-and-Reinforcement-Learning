{
 "cells": [
  {
   "cell_type": "code",
   "execution_count": 31,
   "metadata": {},
   "outputs": [],
   "source": [
    "import csv\n",
    "import numpy as np"
   ]
  },
  {
   "attachments": {},
   "cell_type": "markdown",
   "metadata": {},
   "source": [
    "Setting"
   ]
  },
  {
   "cell_type": "code",
   "execution_count": 2,
   "metadata": {},
   "outputs": [],
   "source": [
    "action = (0, 1)"
   ]
  },
  {
   "cell_type": "code",
   "execution_count": 3,
   "metadata": {},
   "outputs": [],
   "source": [
    "def prob_gen(L):\n",
    "    # set the edge case for state one \n",
    "    state_one = [[0, 0] for i in range(L)]\n",
    "    state_one[0] = [1, 0.6]\n",
    "    state_one[1] = [0, 0.4]\n",
    "    # set the edge case for and stage L\n",
    "    state_L = [[0, 0] for i in range(L)]\n",
    "    state_L[-1] = [0, 0.6]\n",
    "    state_L[-2] = [1, 0.4]\n",
    "    # initialise the matrix\n",
    "    states = [[] for i in range(L)]\n",
    "    # general cases between state one and state L\n",
    "    probs = [[1, 0.05], [0, 0.55], [0, 0.4]]\n",
    "    # set state one in states\n",
    "    states[0] = state_one\n",
    "    states[-1] = state_L\n",
    "    # generate the rest of the probabilites\n",
    "    for i in range(1, L - 1): # fill the matrix with [0, 0]\n",
    "        states[i] = [[0, 0] for i in range(L)]\n",
    "    a, b, c = 0, 1, 2\n",
    "    for row in states[1:-1]: # only generate probs between state one and state L\n",
    "        row[a] = probs[0]\n",
    "        row[b] = probs[1]\n",
    "        row[c] = probs[2]\n",
    "        a += 1\n",
    "        b += 1\n",
    "        c += 1\n",
    "    return states"
   ]
  },
  {
   "cell_type": "code",
   "execution_count": 4,
   "metadata": {},
   "outputs": [],
   "source": [
    "def rewards(n):\n",
    "    reward = [0 for i in range(n)]\n",
    "    reward[0] = 0.05\n",
    "    reward[-1] = 1\n",
    "    return reward"
   ]
  },
  {
   "cell_type": "code",
   "execution_count": 5,
   "metadata": {},
   "outputs": [],
   "source": [
    "def delta(gamma, epsilon = 0.001):\n",
    "    x = (epsilon*(1-gamma))/(2*gamma)\n",
    "    return x\n"
   ]
  },
  {
   "attachments": {},
   "cell_type": "markdown",
   "metadata": {},
   "source": [
    "Value Iteration"
   ]
  },
  {
   "cell_type": "code",
   "execution_count": 6,
   "metadata": {},
   "outputs": [],
   "source": [
    "def IV(state,gamma):\n",
    "    reward = rewards(state)\n",
    "    probs = prob_gen(state)\n",
    "    V = [0 for i in range(state)]\n",
    "    state_map = [i for i in range(state)]\n",
    "    d = delta(gamma)\n",
    "    pi = [-1 for i in range(state)]\n",
    "    for i in range(40000):\n",
    "        V_new = [0 for i in range(state)]\n",
    "        max_diff = 0\n",
    "        for s in state_map:\n",
    "            max_val = 0\n",
    "            for a in action:\n",
    "                #compute state value\n",
    "                val = reward[s]\n",
    "                for s_next in state_map:\n",
    "                    val += probs[s][s_next][a] * (gamma * V[s_next])\n",
    "                #updating values\n",
    "                max_val = max(max_val, val)\n",
    "                #policy decision \n",
    "                if V[s] <= val:\n",
    "                    pi[s] = action[a]\n",
    "            \n",
    "            V_new[s] = max_val\n",
    "\n",
    "            max_diff = max(max_diff, abs(V[s] - V_new[s]))\n",
    "        #update value function\n",
    "        V = V_new\n",
    "        #break when converging\n",
    "        if max_diff < d:\n",
    "            return V, pi, i\n",
    "        "
   ]
  },
  {
   "attachments": {},
   "cell_type": "markdown",
   "metadata": {},
   "source": [
    "Policy Iteration"
   ]
  },
  {
   "cell_type": "code",
   "execution_count": 7,
   "metadata": {},
   "outputs": [],
   "source": [
    "def PI(state,gamma):\n",
    "    reward = rewards(state)\n",
    "    probs = prob_gen(state)\n",
    "    V = [0 for i in range(state)]\n",
    "    state_map = [i for i in range(state)]\n",
    "    d = delta(gamma)\n",
    "    pi = [0 for i in range(state)]\n",
    "    for i in range(10000):\n",
    "        opt_pi_found = True\n",
    "        #step 1) Policy Evaluation\n",
    "        for j in range(10000):\n",
    "            max_diff = 0\n",
    "            for s in state_map:\n",
    "                val = reward[s]\n",
    "                for s_next in state_map:\n",
    "                    val += probs[s][s_next][pi[s]] * gamma * V[s_next]\n",
    "                #update max diff\n",
    "                max_diff = max(max_diff, abs(val - V[s]))\n",
    "                #update value function\n",
    "                V[s] = val\n",
    "            #break when converging\n",
    "            if max_diff < d:\n",
    "                break\n",
    "        #Policy iteration\n",
    "        for s in state_map:\n",
    "            val_max = V[s]\n",
    "            for a in action:\n",
    "                val = reward[s]\n",
    "                for s_next in state_map:\n",
    "                    val += probs[s][s_next][a] * (gamma * V[s_next])\n",
    "\n",
    "                if val > val_max and pi[s]!= a:\n",
    "                    pi[s] = a\n",
    "                    val_max = val\n",
    "                    opt_pi_found = False\n",
    "        if opt_pi_found:\n",
    "            return V, pi, i"
   ]
  },
  {
   "attachments": {},
   "cell_type": "markdown",
   "metadata": {},
   "source": [
    "Point iii"
   ]
  },
  {
   "cell_type": "code",
   "execution_count": 41,
   "metadata": {},
   "outputs": [],
   "source": [
    "p_three = [0.8, 0.85, 0.9, 0.92, 0.95, 0.97, 0.98, 0.99, 0.995]\n",
    "head = ['gamma','value function', 'policy', '# of iterations']\n",
    "iv_data = []\n",
    "pi_data = []\n",
    "for gamma in p_three:\n",
    "    iv_value, iv_policy, iv_iterations = IV(6,gamma)\n",
    "    pi_value, pi_policy, pi_iterations = PI(6,gamma)\n",
    "    iv_data.append([gamma,iv_value,iv_policy,iv_iterations])\n",
    "    pi_data.append([gamma,pi_value,pi_policy,pi_iterations])\n",
    "\n",
    "#round value function\n",
    "for results in iv_data:\n",
    "    results[1] = list(np.around(np.array(results[1]),4))\n",
    "\n",
    "for results in pi_data:\n",
    "    results[1] = list(np.around(np.array(results[1]),4))"
   ]
  },
  {
   "cell_type": "code",
   "execution_count": 39,
   "metadata": {},
   "outputs": [],
   "source": [
    "with open('./iv.csv','w') as file:\n",
    "    writer = csv.writer(file)\n",
    "    writer.writerow(head)\n",
    "    for row in iv_data:\n",
    "        writer.writerow(row)\n",
    "\n",
    "with open('./pi.csv','w') as file:\n",
    "    writer = csv.writer(file)\n",
    "    writer.writerow(head)\n",
    "    for row in pi_data:\n",
    "        writer.writerow(row)"
   ]
  },
  {
   "attachments": {},
   "cell_type": "markdown",
   "metadata": {},
   "source": [
    "point iv"
   ]
  },
  {
   "cell_type": "code",
   "execution_count": 48,
   "metadata": {},
   "outputs": [],
   "source": [
    "p_four = [6,8,10,14,18,25,40]\n",
    "head = ['# of states','value function', 'policy', '# of iterations']\n",
    "iv_data4 = []\n",
    "pi_data4 = []\n",
    "for L in p_four:\n",
    "    iv_value, iv_policy, iv_iterations = IV(L,0.98)\n",
    "    pi_value, pi_policy, pi_iterations = PI(L,0.98)\n",
    "    iv_data4.append([L,iv_value,iv_policy,iv_iterations])\n",
    "    pi_data4.append([L,pi_value,pi_policy,pi_iterations])\n",
    "\n",
    "#round value function\n",
    "for results in iv_data4:\n",
    "    results[1] = list(np.around(np.array(results[1]),4))\n",
    "\n",
    "for results in pi_data4:\n",
    "    results[1] = list(np.around(np.array(results[1]),4))"
   ]
  },
  {
   "cell_type": "code",
   "execution_count": 49,
   "metadata": {},
   "outputs": [],
   "source": [
    "with open('./iv4.csv','w') as file:\n",
    "    writer = csv.writer(file)\n",
    "    writer.writerow(head)\n",
    "    for row in iv_data4:\n",
    "        writer.writerow(row)\n",
    "\n",
    "with open('./pi4.csv','w') as file:\n",
    "    writer = csv.writer(file)\n",
    "    writer.writerow(head)\n",
    "    for row in pi_data4:\n",
    "        writer.writerow(row)"
   ]
  }
 ],
 "metadata": {
  "kernelspec": {
   "display_name": "Python 3",
   "language": "python",
   "name": "python3"
  },
  "language_info": {
   "codemirror_mode": {
    "name": "ipython",
    "version": 3
   },
   "file_extension": ".py",
   "mimetype": "text/x-python",
   "name": "python",
   "nbconvert_exporter": "python",
   "pygments_lexer": "ipython3",
   "version": "3.10.4"
  },
  "orig_nbformat": 4,
  "vscode": {
   "interpreter": {
    "hash": "c7a68dc2e3110d80647fac8693cdc5243ade541bc79b3bfddbf1397505f434ab"
   }
  }
 },
 "nbformat": 4,
 "nbformat_minor": 2
}
